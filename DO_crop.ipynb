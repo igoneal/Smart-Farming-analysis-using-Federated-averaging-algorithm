{
 "cells": [
  {
   "cell_type": "code",
   "execution_count": 4,
   "metadata": {},
   "outputs": [
    {
     "name": "stdout",
     "output_type": "stream",
     "text": [
      "/home/user-010/anaconda3/lib/python3.7/site-packages/cryptography/hazmat/backends/openssl/x509.py:17: CryptographyDeprecationWarning: This version of cryptography contains a temporary pyOpenSSL fallback path. Upgrade pyOpenSSL now.\n",
      "  utils.DeprecatedIn35,\n",
      "Collecting syft==0.5.0\n",
      "  Using cached syft-0.5.0-py2.py3-none-any.whl (504 kB)\n",
      "Requirement already satisfied: protobuf in /home/user-010/anaconda3/lib/python3.7/site-packages (from syft==0.5.0) (3.20.1)\n",
      "Requirement already satisfied: pyarrow in /home/user-010/anaconda3/lib/python3.7/site-packages (from syft==0.5.0) (7.0.0)\n",
      "Requirement already satisfied: requests-toolbelt in /home/user-010/anaconda3/lib/python3.7/site-packages (from syft==0.5.0) (0.9.1)\n",
      "Requirement already satisfied: dpcontracts in /home/user-010/anaconda3/lib/python3.7/site-packages (from syft==0.5.0) (0.6.0)\n",
      "Requirement already satisfied: names in /home/user-010/anaconda3/lib/python3.7/site-packages (from syft==0.5.0) (0.3.0)\n",
      "Requirement already satisfied: flask<2.0.0,>=1.1.2 in /home/user-010/anaconda3/lib/python3.7/site-packages (from syft==0.5.0) (1.1.4)\n",
      "Requirement already satisfied: PyNaCl in /home/user-010/anaconda3/lib/python3.7/site-packages (from syft==0.5.0) (1.5.0)\n",
      "Requirement already satisfied: PyJWT==1.7.1 in /home/user-010/anaconda3/lib/python3.7/site-packages (from syft==0.5.0) (1.7.1)\n",
      "Requirement already satisfied: torchvision<=0.9.1,>=0.5 in /home/user-010/anaconda3/lib/python3.7/site-packages (from syft==0.5.0) (0.9.1)\n",
      "Requirement already satisfied: sqlitedict in /home/user-010/anaconda3/lib/python3.7/site-packages (from syft==0.5.0) (2.0.0)\n",
      "Requirement already satisfied: typing-extensions in /home/user-010/anaconda3/lib/python3.7/site-packages (from syft==0.5.0) (4.2.0)\n",
      "Collecting PyYAML>=5.4.1\n",
      "  Using cached PyYAML-6.0-cp37-cp37m-manylinux_2_5_x86_64.manylinux1_x86_64.manylinux_2_12_x86_64.manylinux2010_x86_64.whl (596 kB)\n",
      "Requirement already satisfied: cachetools in /home/user-010/anaconda3/lib/python3.7/site-packages (from syft==0.5.0) (5.0.0)\n",
      "Requirement already satisfied: syft-proto in /home/user-010/anaconda3/lib/python3.7/site-packages (from syft==0.5.0) (0.5.3)\n",
      "Requirement already satisfied: requests in /home/user-010/anaconda3/lib/python3.7/site-packages (from syft==0.5.0) (2.22.0)\n",
      "Requirement already satisfied: websocket-client in /home/user-010/anaconda3/lib/python3.7/site-packages (from syft==0.5.0) (1.3.2)\n",
      "Requirement already satisfied: wrapt in /home/user-010/anaconda3/lib/python3.7/site-packages (from syft==0.5.0) (1.11.2)\n",
      "Requirement already satisfied: cryptography>=3.4.7 in /home/user-010/anaconda3/lib/python3.7/site-packages (from syft==0.5.0) (37.0.1)\n",
      "Requirement already satisfied: loguru in /home/user-010/anaconda3/lib/python3.7/site-packages (from syft==0.5.0) (0.6.0)\n",
      "Requirement already satisfied: torch<=1.8.1,>=1.4.0 in /home/user-010/anaconda3/lib/python3.7/site-packages (from syft==0.5.0) (1.8.1)\n",
      "Requirement already satisfied: nest-asyncio in /home/user-010/anaconda3/lib/python3.7/site-packages (from syft==0.5.0) (1.5.5)\n",
      "Requirement already satisfied: forbiddenfruit>=0.1.3 in /home/user-010/anaconda3/lib/python3.7/site-packages (from syft==0.5.0) (0.1.4)\n",
      "Requirement already satisfied: aiortc in /home/user-010/anaconda3/lib/python3.7/site-packages (from syft==0.5.0) (1.3.2)\n",
      "Requirement already satisfied: packaging in /home/user-010/anaconda3/lib/python3.7/site-packages (from syft==0.5.0) (20.1)\n",
      "Requirement already satisfied: torchcsprng<=0.2.1 in /home/user-010/anaconda3/lib/python3.7/site-packages (from syft==0.5.0) (0.2.1)\n",
      "Requirement already satisfied: scikit-learn in /home/user-010/anaconda3/lib/python3.7/site-packages (from syft==0.5.0) (0.22.1)\n",
      "Requirement already satisfied: pandas in /home/user-010/anaconda3/lib/python3.7/site-packages (from syft==0.5.0) (1.0.1)\n",
      "Requirement already satisfied: numpy>=1.16.6 in /home/user-010/anaconda3/lib/python3.7/site-packages (from pyarrow->syft==0.5.0) (1.18.1)\n",
      "Requirement already satisfied: Werkzeug<2.0,>=0.15 in /home/user-010/anaconda3/lib/python3.7/site-packages (from flask<2.0.0,>=1.1.2->syft==0.5.0) (1.0.0)\n",
      "Requirement already satisfied: click<8.0,>=5.1 in /home/user-010/anaconda3/lib/python3.7/site-packages (from flask<2.0.0,>=1.1.2->syft==0.5.0) (7.0)\n",
      "Requirement already satisfied: Jinja2<3.0,>=2.10.1 in /home/user-010/anaconda3/lib/python3.7/site-packages (from flask<2.0.0,>=1.1.2->syft==0.5.0) (2.11.1)\n",
      "Requirement already satisfied: itsdangerous<2.0,>=0.24 in /home/user-010/anaconda3/lib/python3.7/site-packages (from flask<2.0.0,>=1.1.2->syft==0.5.0) (1.1.0)\n",
      "Requirement already satisfied: cffi>=1.4.1 in /home/user-010/anaconda3/lib/python3.7/site-packages (from PyNaCl->syft==0.5.0) (1.14.0)\n",
      "Requirement already satisfied: pillow>=4.1.1 in /home/user-010/anaconda3/lib/python3.7/site-packages (from torchvision<=0.9.1,>=0.5->syft==0.5.0) (7.0.0)\n",
      "Requirement already satisfied: chardet<3.1.0,>=3.0.2 in /home/user-010/anaconda3/lib/python3.7/site-packages (from requests->syft==0.5.0) (3.0.4)\n",
      "Requirement already satisfied: idna<2.9,>=2.5 in /home/user-010/anaconda3/lib/python3.7/site-packages (from requests->syft==0.5.0) (2.8)\n",
      "Requirement already satisfied: urllib3!=1.25.0,!=1.25.1,<1.26,>=1.21.1 in /home/user-010/anaconda3/lib/python3.7/site-packages (from requests->syft==0.5.0) (1.25.8)\n",
      "Requirement already satisfied: certifi>=2017.4.17 in /home/user-010/anaconda3/lib/python3.7/site-packages (from requests->syft==0.5.0) (2019.11.28)\n",
      "Requirement already satisfied: av<10.0.0,>=9.0.0 in /home/user-010/anaconda3/lib/python3.7/site-packages (from aiortc->syft==0.5.0) (9.2.0)\n",
      "Requirement already satisfied: google-crc32c>=1.1 in /home/user-010/anaconda3/lib/python3.7/site-packages (from aiortc->syft==0.5.0) (1.3.0)\n",
      "Requirement already satisfied: pyee>=9.0.0 in /home/user-010/anaconda3/lib/python3.7/site-packages (from aiortc->syft==0.5.0) (9.0.4)\n",
      "Requirement already satisfied: aioice<0.8.0,>=0.7.5 in /home/user-010/anaconda3/lib/python3.7/site-packages (from aiortc->syft==0.5.0) (0.7.6)\n",
      "Requirement already satisfied: pylibsrtp>=0.5.6 in /home/user-010/anaconda3/lib/python3.7/site-packages (from aiortc->syft==0.5.0) (0.7.1)\n",
      "Requirement already satisfied: six in /home/user-010/anaconda3/lib/python3.7/site-packages (from packaging->syft==0.5.0) (1.14.0)\n",
      "Requirement already satisfied: pyparsing>=2.0.2 in /home/user-010/anaconda3/lib/python3.7/site-packages (from packaging->syft==0.5.0) (2.4.6)\n",
      "Requirement already satisfied: joblib>=0.11 in /home/user-010/anaconda3/lib/python3.7/site-packages (from scikit-learn->syft==0.5.0) (0.14.1)\n",
      "Requirement already satisfied: scipy>=0.17.0 in /home/user-010/anaconda3/lib/python3.7/site-packages (from scikit-learn->syft==0.5.0) (1.4.1)\n",
      "Requirement already satisfied: python-dateutil>=2.6.1 in /home/user-010/anaconda3/lib/python3.7/site-packages (from pandas->syft==0.5.0) (2.8.1)\n",
      "Requirement already satisfied: pytz>=2017.2 in /home/user-010/anaconda3/lib/python3.7/site-packages (from pandas->syft==0.5.0) (2019.3)\n",
      "Requirement already satisfied: MarkupSafe>=0.23 in /home/user-010/anaconda3/lib/python3.7/site-packages (from Jinja2<3.0,>=2.10.1->flask<2.0.0,>=1.1.2->syft==0.5.0) (1.1.1)\n",
      "Requirement already satisfied: pycparser in /home/user-010/anaconda3/lib/python3.7/site-packages (from cffi>=1.4.1->PyNaCl->syft==0.5.0) (2.19)\n",
      "Requirement already satisfied: dnspython>=2.0.0 in /home/user-010/anaconda3/lib/python3.7/site-packages (from aioice<0.8.0,>=0.7.5->aiortc->syft==0.5.0) (2.2.1)\n",
      "Requirement already satisfied: netifaces in /home/user-010/anaconda3/lib/python3.7/site-packages (from aioice<0.8.0,>=0.7.5->aiortc->syft==0.5.0) (0.11.0)\n",
      "Installing collected packages: PyYAML, syft\n",
      "  Attempting uninstall: PyYAML\n",
      "    Found existing installation: PyYAML 5.3\n",
      "\u001b[31mERROR: Cannot uninstall 'PyYAML'. It is a distutils installed project and thus we cannot accurately determine which files belong to it which would lead to only a partial uninstall.\u001b[0m\n"
     ]
    }
   ],
   "source": [
    "#!pip install xgboost\n",
    "!pip install syft==0.5.0"
   ]
  },
  {
   "cell_type": "code",
   "execution_count": 1,
   "metadata": {},
   "outputs": [],
   "source": [
    "import syft as sy"
   ]
  },
  {
   "cell_type": "code",
   "execution_count": 2,
   "metadata": {},
   "outputs": [
    {
     "name": "stdout",
     "output_type": "stream",
     "text": [
      "🎤  🎸  ♪♪♪ Starting Duet ♫♫♫  🎻  🎹\n",
      "\n",
      "♫♫♫ >\u001b[93m DISCLAIMER\u001b[0m: \u001b[1mDuet is an experimental feature currently in beta.\n",
      "♫♫♫ > Use at your own risk.\n",
      "\u001b[0m\n",
      "\u001b[1m\n",
      "    > ❤️ \u001b[91mLove\u001b[0m \u001b[92mDuet\u001b[0m? \u001b[93mPlease\u001b[0m \u001b[94mconsider\u001b[0m \u001b[95msupporting\u001b[0m \u001b[91mour\u001b[0m \u001b[93mcommunity!\u001b[0m\n",
      "    > https://github.com/sponsors/OpenMined\u001b[1m\n",
      "\n",
      "♫♫♫ > Punching through firewall to OpenGrid Network Node at:\n",
      "♫♫♫ > http://ec2-18-218-7-180.us-east-2.compute.amazonaws.com:5000\n",
      "♫♫♫ >\n",
      "♫♫♫ > ...waiting for response from OpenGrid Network... \n",
      "♫♫♫ > \u001b[92mDONE!\u001b[0m\n",
      "\n",
      "♫♫♫ > \u001b[95mSTEP 1:\u001b[0m Send the following code to your Duet Partner!\n",
      "\n",
      "import syft as sy\n",
      "duet = sy.join_duet(loopback=True)\n",
      "\n",
      "♫♫♫ > Connecting...\n"
     ]
    },
    {
     "name": "stderr",
     "output_type": "stream",
     "text": [
      "/home/user-010/anaconda3/envs/pysyft/lib/python3.7/site-packages/aiortc/rtcdtlstransport.py:211: CryptographyDeprecationWarning: This version of cryptography contains a temporary pyOpenSSL fallback path. Upgrade pyOpenSSL now.\n",
      "  _openssl_assert(lib.SSL_CTX_use_certificate(ctx, self._cert._x509) == 1)  # type: ignore\n",
      "/home/user-010/anaconda3/envs/pysyft/lib/python3.7/site-packages/aiortc/rtcdtlstransport.py:186: CryptographyDeprecationWarning: This version of cryptography contains a temporary pyOpenSSL fallback path. Upgrade pyOpenSSL now.\n",
      "  value=certificate_digest(self._cert._x509),  # type: ignore\n"
     ]
    },
    {
     "name": "stdout",
     "output_type": "stream",
     "text": [
      "\n",
      "♫♫♫ > \u001b[92mCONNECTED!\u001b[0m\n",
      "\n",
      "♫♫♫ > DUET LIVE STATUS  -  Objects: 8  Requests: 0   Messages: 8819  Request Handlers: 1                                                          \r"
     ]
    }
   ],
   "source": [
    "duet = sy.launch_duet(loopback=True)"
   ]
  },
  {
   "cell_type": "code",
   "execution_count": 3,
   "metadata": {},
   "outputs": [
    {
     "name": "stdout",
     "output_type": "stream",
     "text": [
      "♫♫♫ > DUET LIVE STATUS  -  Objects: 0  Requests: 0   Messages: 0  Request Handlers: 0                                \r"
     ]
    }
   ],
   "source": [
    "from sklearn import datasets\n",
    "import torch as th\n",
    "import pandas as pd\n",
    "import numpy as np\n",
    "import torch as th\n",
    "import torch.nn as nn\n",
    "import time\n",
    "#import xgboost as xgb\n",
    "from sklearn.model_selection import train_test_split\n",
    "from sklearn.metrics import mean_squared_error\n",
    "import matplotlib.pyplot as plt\n",
    "from sklearn.preprocessing import MinMaxScaler\n",
    "from sklearn.preprocessing import StandardScaler"
   ]
  },
  {
   "cell_type": "code",
   "execution_count": 4,
   "metadata": {},
   "outputs": [
    {
     "name": "stdout",
     "output_type": "stream",
     "text": [
      "[[ 20.41  82.21   7.59 245.15]\n",
      " [ 25.76  83.52   5.88 245.66]\n",
      " [ 20.62  83.77   6.93 279.55]\n",
      " [ 21.84  80.73   6.95 202.38]\n",
      " [ 20.08  83.29   5.74 263.64]]\n",
      "[[ 20.41  82.21   7.59 245.15]\n",
      " [ 25.76  83.52   5.88 245.66]\n",
      " [ 20.62  83.77   6.93 279.55]\n",
      " [ 21.84  80.73   6.95 202.38]\n",
      " [ 20.08  83.29   5.74 263.64]\n",
      " [ 24.46  82.75   6.74 182.56]\n",
      " [ 21.14  80.34   5.59 198.67]\n",
      " [ 25.79  82.11   6.95 243.51]\n",
      " [ 23.64  80.29   5.01 263.11]\n",
      " [ 23.43  80.57   6.36 269.5 ]\n",
      " [ 24.98  83.89   6.88 204.8 ]\n",
      " [ 22.73  82.17   7.3  260.89]\n",
      " [ 24.87  82.84   6.59 295.61]\n",
      " [ 21.32  83.     7.28 192.32]\n",
      " [ 26.29  84.57   7.02 257.49]\n",
      " [ 22.23  81.86   6.94 278.08]\n",
      " [ 26.73  81.79   7.87 280.4 ]\n",
      " [ 24.89  81.98   5.01 185.95]\n",
      " [ 26.88  81.46   6.14 194.58]\n",
      " [ 22.68  83.73   7.52 200.91]\n",
      " [ 26.09  80.38   5.71 182.9 ]\n",
      " [ 25.43  82.95   5.76 195.36]\n",
      " [ 26.4   81.06   6.35 223.37]\n",
      " [ 26.04  84.97   6.   186.75]\n",
      " [ 25.28  80.54   5.45 220.12]\n",
      " [ 22.09  83.47   6.37 231.74]\n",
      " [ 23.29  81.43   5.11 242.32]\n",
      " [ 25.49  81.41   5.94 182.65]\n",
      " [ 23.68  81.04   5.18 233.7 ]\n",
      " [ 20.82  84.13   6.46 230.22]\n",
      " [ 26.93  81.91   7.07 290.68]\n",
      " [ 23.84  83.88   7.47 241.2 ]\n",
      " [ 26.53  80.12   6.16 218.92]\n",
      " [ 26.46  83.86   7.55 248.23]\n",
      " [ 22.7   82.81   6.03 257.  ]\n",
      " [ 22.68  83.46   6.6  194.27]\n",
      " [ 21.53  82.14   6.5  295.92]\n",
      " [ 21.41  83.33   5.94 287.58]\n",
      " [ 26.54  84.67   7.07 183.62]\n",
      " [ 23.36  83.6    5.33 188.41]\n",
      " [ 22.61  63.69   5.75  87.76]\n",
      " [ 26.1   71.57   6.93 102.27]\n",
      " [ 23.56  71.59   6.66  66.72]\n",
      " [ 19.97  57.68   6.6   60.65]\n",
      " [ 18.48  62.7    5.97  65.44]\n",
      " [ 21.78  57.81   6.16 102.09]\n",
      " [ 25.62  66.5    6.05 105.47]\n",
      " [ 25.19  66.69   5.91  78.07]\n",
      " [ 20.42  62.55   5.86  65.28]\n",
      " [ 24.92  66.79   5.75 109.22]\n",
      " [ 23.32  73.45   5.85  94.3 ]\n",
      " [ 24.84  68.36   6.47  74.05]\n",
      " [ 22.28  58.84   6.97  63.87]\n",
      " [ 18.88  65.77   6.08  94.76]\n",
      " [ 25.19  60.2    5.92  72.12]\n",
      " [ 18.25  55.28   6.2   63.72]\n",
      " [ 24.61  70.42   6.6  104.16]\n",
      " [ 25.14  65.26   6.02  76.68]\n",
      " [ 23.09  60.12   6.03  65.5 ]\n",
      " [ 18.05  62.89   6.29  84.24]\n",
      " [ 24.93  73.8    6.55  79.74]\n",
      " [ 18.15  71.09   5.57  88.08]\n",
      " [ 18.28  66.66   6.83  80.98]\n",
      " [ 18.83  58.75   5.72  79.75]\n",
      " [ 25.72  67.22   5.55  74.51]\n",
      " [ 25.34  68.5    6.59  96.46]\n",
      " [ 23.89  57.49   5.89 102.83]\n",
      " [ 21.54  71.51   5.92 102.49]\n",
      " [ 23.09  63.1    5.59  70.43]\n",
      " [ 25.62  63.47   6.58 108.83]\n",
      " [ 21.45  63.16   6.18  65.89]\n",
      " [ 18.52  55.53   6.64  90.99]\n",
      " [ 22.54  67.99   6.49  64.41]\n",
      " [ 23.02  61.89   5.68  63.04]\n",
      " [ 24.89  65.61   6.63  87.93]\n",
      " [ 25.77  74.09   6.52 107.49]\n",
      " [ 19.4   62.36   5.7   60.95]\n",
      " [ 21.54  59.64   6.8  109.75]\n",
      " [ 23.8   74.83   6.25  91.76]\n",
      " [ 18.98  74.53   6.09  94.26]\n",
      " [ 24.11  73.13   6.23  71.08]\n",
      " [ 24.79  70.05   5.72  76.73]\n",
      " [ 21.63  60.28   6.43  69.22]\n",
      " [ 25.38  57.21   5.98 101.7 ]\n",
      " [ 22.22  72.85   6.8  106.62]\n",
      " [ 20.58  69.     6.5   66.29]\n",
      " [ 24.88  68.74   6.27  91.26]\n",
      " [ 20.04  56.36   6.73 109.02]\n",
      " [ 25.95  61.89   6.33  99.58]\n",
      " [ 19.29  65.47   6.81  71.32]\n",
      " [ 20.58  65.35   6.67  78.35]\n",
      " [ 24.71  56.73   6.65  88.45]\n",
      " [ 20.27  63.91   6.44  62.5 ]\n",
      " [ 18.42  64.24   6.47  76.41]\n",
      " [ 23.39  61.74   5.87 107.32]\n",
      " [ 19.85  61.25   5.73 100.77]\n",
      " [ 21.87  61.91   5.85 107.27]\n",
      " [ 22.81  56.51   5.79 101.6 ]\n",
      " [ 19.08  69.02   6.74  80.73]\n",
      " [ 22.03  65.36   6.27  83.73]\n",
      " [ 23.81  59.25   5.72  89.96]\n",
      " [ 18.53  69.03   5.77  88.1 ]\n",
      " [ 23.5   61.32   5.58  64.78]\n",
      " [ 26.55  72.89   5.79  73.34]\n",
      " [ 19.3   69.63   5.78  83.21]\n",
      " [ 20.69  59.44   6.86 103.65]\n",
      " [ 19.33  68.03   6.19  84.23]\n",
      " [ 24.61  73.59   6.64  96.59]\n",
      " [ 22.27  59.52   5.83  67.97]\n",
      " [ 25.7   61.33   6.96  83.21]\n",
      " [ 19.2   68.31   6.11  87.85]\n",
      " [ 21.7   60.47   6.71  95.71]\n",
      " [ 20.52  59.21   5.56  67.61]\n",
      " [ 23.3   73.63   5.87  97.59]\n",
      " [ 24.25  55.65   7.    64.24]\n",
      " [ 24.86  65.74   5.71  75.82]\n",
      " [ 22.63  65.77   6.78  88.17]\n",
      " [ 18.04  60.61   5.51 104.23]\n",
      " [ 23.26  72.33   5.8   67.1 ]\n",
      " [ 22.88  71.6    6.35  67.73]\n",
      " [ 25.97  69.36   6.82 103.22]\n",
      " [ 26.14  66.21   6.66 107.24]\n",
      " [ 18.66  61.55   6.12  75.03]\n",
      " [ 25.11  55.98   5.79  78.16]\n",
      " [ 23.34  59.25   6.47 105.01]\n",
      " [ 25.08  65.92   6.46  62.49]\n",
      " [ 25.37  72.52   6.61 107.91]\n",
      " [ 25.34  63.32   6.33  74.52]\n",
      " [ 25.01  67.82   6.53  62.91]\n",
      " [ 18.67  71.52   5.72  69.93]\n",
      " [ 20.38  63.74   6.64 108.51]\n",
      " [ 18.09  72.61   6.38  78.96]\n",
      " [ 26.17  71.96   6.25  79.85]\n",
      " [ 18.65  61.38   6.66  93.62]\n",
      " [ 26.07  59.37   6.2   85.76]\n",
      " [ 18.93  72.8    6.16  82.34]\n",
      " [ 23.31  63.25   6.39 108.76]\n",
      " [ 18.75  62.5    6.42  70.23]\n",
      " [ 19.74  59.66   6.38  65.51]\n",
      " [ 25.73  70.75   6.88  98.74]\n",
      " [ 17.02  16.99   7.49  88.55]\n",
      " [ 19.02  17.13   6.92  79.93]\n",
      " [ 17.89  15.41   6.    68.55]\n",
      " [ 18.87  15.66   6.39  88.51]\n",
      " [ 18.37  19.56   7.15  79.26]\n",
      " [ 20.45  15.4    5.99  92.68]\n",
      " [ 20.65  16.61   6.23  74.66]\n",
      " [ 17.33  18.75   7.55  82.62]\n",
      " [ 18.18  18.9    7.01  81.85]\n",
      " [ 18.01  18.31   8.75  81.99]]\n"
     ]
    }
   ],
   "source": [
    "#dataset = pd.read_csv('Crop_Artharva.csv')\n",
    "dat = pd.read_csv('Crop_data_Artharva12.csv')\n",
    "dat1 = pd.read_csv('Crop_target_Artharva12.csv')\n",
    "X = dat.iloc[:,0:5].values\n",
    "y = dat1.iloc[:,0].values\n",
    "print(X[0:5])\n",
    "print(X)\n"
   ]
  },
  {
   "cell_type": "code",
   "execution_count": 5,
   "metadata": {},
   "outputs": [
    {
     "name": "stdout",
     "output_type": "stream",
     "text": [
      "150\n"
     ]
    }
   ],
   "source": [
    "print(len(X))"
   ]
  },
  {
   "cell_type": "code",
   "execution_count": 6,
   "metadata": {},
   "outputs": [
    {
     "name": "stdout",
     "output_type": "stream",
     "text": [
      "[0 0 0 0 0 0 0 0 0 0 0 0 0 0 0 0 0 0 0 0 0 0 0 0 0 0 0 0 0 0 0 0 0 0 0 0 0\n",
      " 0 0 0 0 0 0 0 0 0 0 0 0 0 1 1 1 1 1 1 1 1 1 1 1 1 1 1 1 1 1 1 1 1 1 1 1 1\n",
      " 1 1 1 1 1 1 1 1 1 1 1 1 1 1 1 1 1 1 1 1 1 1 1 1 1 1 2 2 2 2 2 2 2 2 2 2 2\n",
      " 2 2 2 2 2 2 2 2 2 2 2 2 2 2 2 2 2 2 2 2 2 2 2 2 2 2 2 2 2 2 2 2 2 2 2 2 2\n",
      " 2 2]\n"
     ]
    }
   ],
   "source": [
    "print(y)"
   ]
  },
  {
   "cell_type": "code",
   "execution_count": 7,
   "metadata": {},
   "outputs": [],
   "source": [
    "from sklearn.preprocessing import StandardScaler\n",
    "df2 = StandardScaler().fit_transform(dat.iloc[:, 0:5])"
   ]
  },
  {
   "cell_type": "code",
   "execution_count": 8,
   "metadata": {},
   "outputs": [],
   "source": [
    "X11 = th.FloatTensor(df2)\n",
    "y11 = th.FloatTensor(y)"
   ]
  },
  {
   "cell_type": "code",
   "execution_count": 14,
   "metadata": {},
   "outputs": [],
   "source": [
    "X2 = X11.tag(\"Crops-data\")\n",
    "y2 = y11.tag(\"Crops-target\")\n",
    "X2 = X11.describe(\n",
    "   \"This is a dataset for crops classification with temperature, humidity, Ph level,Rainfal \"\n",
    "    \"as independent variables\")\n",
    "y2 = y11.describe(\"Labels for Crops: rice, maize, chickpea\")"
   ]
  },
  {
   "cell_type": "code",
   "execution_count": 10,
   "metadata": {},
   "outputs": [],
   "source": [
    "data_pointer = X11.send(duet, pointable=True)\n",
    "target_pointer = y11.send(duet, pointable=True)"
   ]
  },
  {
   "cell_type": "code",
   "execution_count": 11,
   "metadata": {},
   "outputs": [
    {
     "data": {
      "text/plain": [
       "[<syft.proxy.torch.TensorPointer object at 0x7fb069bf07d0>, <syft.proxy.torch.TensorPointer object at 0x7fb06a14ead0>]"
      ]
     },
     "execution_count": 11,
     "metadata": {},
     "output_type": "execute_result"
    }
   ],
   "source": [
    "# Once uploaded, the data owner can see the object stored in the tensor\n",
    "duet.store"
   ]
  },
  {
   "cell_type": "code",
   "execution_count": 12,
   "metadata": {},
   "outputs": [
    {
     "data": {
      "text/html": [
       "<div>\n",
       "<style scoped>\n",
       "    .dataframe tbody tr th:only-of-type {\n",
       "        vertical-align: middle;\n",
       "    }\n",
       "\n",
       "    .dataframe tbody tr th {\n",
       "        vertical-align: top;\n",
       "    }\n",
       "\n",
       "    .dataframe thead th {\n",
       "        text-align: right;\n",
       "    }\n",
       "</style>\n",
       "<table border=\"1\" class=\"dataframe\">\n",
       "  <thead>\n",
       "    <tr style=\"text-align: right;\">\n",
       "      <th></th>\n",
       "      <th>ID</th>\n",
       "      <th>Tags</th>\n",
       "      <th>Description</th>\n",
       "      <th>object_type</th>\n",
       "    </tr>\n",
       "  </thead>\n",
       "  <tbody>\n",
       "    <tr>\n",
       "      <th>0</th>\n",
       "      <td>&lt;UID: 0e3419be89044758b740b812bcd507df&gt;</td>\n",
       "      <td>[Crops-data]</td>\n",
       "      <td>This is a dataset for Crops classification tem...</td>\n",
       "      <td>&lt;class 'torch.Tensor'&gt;</td>\n",
       "    </tr>\n",
       "    <tr>\n",
       "      <th>1</th>\n",
       "      <td>&lt;UID: fed555467b904e7e85f501973e02ab65&gt;</td>\n",
       "      <td>[Crops-target]</td>\n",
       "      <td>Labels for Crops: rice, maize, chickpea</td>\n",
       "      <td>&lt;class 'torch.Tensor'&gt;</td>\n",
       "    </tr>\n",
       "  </tbody>\n",
       "</table>\n",
       "</div>"
      ],
      "text/plain": [
       "                                        ID            Tags  \\\n",
       "0  <UID: 0e3419be89044758b740b812bcd507df>    [Crops-data]   \n",
       "1  <UID: fed555467b904e7e85f501973e02ab65>  [Crops-target]   \n",
       "\n",
       "                                         Description             object_type  \n",
       "0  This is a dataset for Crops classification tem...  <class 'torch.Tensor'>  \n",
       "1            Labels for Crops: rice, maize, chickpea  <class 'torch.Tensor'>  "
      ]
     },
     "execution_count": 12,
     "metadata": {},
     "output_type": "execute_result"
    }
   ],
   "source": [
    "# To see it in a human-readable format, data owner can also pretty-print the tensor information\n",
    "duet.store.pandas"
   ]
  },
  {
   "cell_type": "markdown",
   "metadata": {},
   "source": [
    "# Response to request coming from data scientist"
   ]
  },
  {
   "cell_type": "code",
   "execution_count": 13,
   "metadata": {},
   "outputs": [],
   "source": [
    "duet.requests.add_handler(action=\"accept\")"
   ]
  },
  {
   "cell_type": "code",
   "execution_count": null,
   "metadata": {},
   "outputs": [],
   "source": []
  },
  {
   "cell_type": "code",
   "execution_count": null,
   "metadata": {},
   "outputs": [],
   "source": [
    "\n"
   ]
  },
  {
   "cell_type": "code",
   "execution_count": null,
   "metadata": {},
   "outputs": [],
   "source": []
  }
 ],
 "metadata": {
  "kernelspec": {
   "display_name": "Python 3 (ipykernel)",
   "language": "python",
   "name": "python3"
  },
  "language_info": {
   "codemirror_mode": {
    "name": "ipython",
    "version": 3
   },
   "file_extension": ".py",
   "mimetype": "text/x-python",
   "name": "python",
   "nbconvert_exporter": "python",
   "pygments_lexer": "ipython3",
   "version": "3.7.13"
  }
 },
 "nbformat": 4,
 "nbformat_minor": 4
}
