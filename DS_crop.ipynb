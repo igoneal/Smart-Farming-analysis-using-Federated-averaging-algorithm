{
 "cells": [
  {
   "cell_type": "code",
   "execution_count": 1,
   "id": "a381732d",
   "metadata": {},
   "outputs": [],
   "source": [
    "import syft as sy"
   ]
  },
  {
   "cell_type": "markdown",
   "id": "0c3a08dd",
   "metadata": {},
   "source": [
    "# Part 1: Join the Duet Server the Data Owner connected to"
   ]
  },
  {
   "cell_type": "code",
   "execution_count": 2,
   "id": "f1359192",
   "metadata": {
    "scrolled": true
   },
   "outputs": [
    {
     "name": "stdout",
     "output_type": "stream",
     "text": [
      "🎤  🎸  ♪♪♪ Joining Duet ♫♫♫  🎻  🎹\n",
      "\n",
      "♫♫♫ >\u001b[93m DISCLAIMER\u001b[0m: \u001b[1mDuet is an experimental feature currently in beta.\n",
      "♫♫♫ > Use at your own risk.\n",
      "\u001b[0m\n",
      "\u001b[1m\n",
      "    > ❤️ \u001b[91mLove\u001b[0m \u001b[92mDuet\u001b[0m? \u001b[93mPlease\u001b[0m \u001b[94mconsider\u001b[0m \u001b[95msupporting\u001b[0m \u001b[91mour\u001b[0m \u001b[93mcommunity!\u001b[0m\n",
      "    > https://github.com/sponsors/OpenMined\u001b[1m\n",
      "\n",
      "♫♫♫ > Punching through firewall to OpenGrid Network Node at:\n",
      "♫♫♫ > http://ec2-18-218-7-180.us-east-2.compute.amazonaws.com:5000\n",
      "♫♫♫ >\n",
      "♫♫♫ > ...waiting for response from OpenGrid Network... \n",
      "♫♫♫ > \u001b[92mDONE!\u001b[0m\n"
     ]
    },
    {
     "name": "stderr",
     "output_type": "stream",
     "text": [
      "/home/user-010/anaconda3/envs/pysyft/lib/python3.7/site-packages/aiortc/rtcdtlstransport.py:211: CryptographyDeprecationWarning: This version of cryptography contains a temporary pyOpenSSL fallback path. Upgrade pyOpenSSL now.\n",
      "  _openssl_assert(lib.SSL_CTX_use_certificate(ctx, self._cert._x509) == 1)  # type: ignore\n",
      "/home/user-010/anaconda3/envs/pysyft/lib/python3.7/site-packages/aiortc/rtcdtlstransport.py:186: CryptographyDeprecationWarning: This version of cryptography contains a temporary pyOpenSSL fallback path. Upgrade pyOpenSSL now.\n",
      "  value=certificate_digest(self._cert._x509),  # type: ignore\n"
     ]
    },
    {
     "name": "stdout",
     "output_type": "stream",
     "text": [
      "\n",
      "♫♫♫ > \u001b[92mCONNECTED!\u001b[0m\n"
     ]
    }
   ],
   "source": [
    "duet = sy.join_duet(loopback=True)"
   ]
  },
  {
   "cell_type": "markdown",
   "id": "09b34a9d",
   "metadata": {},
   "source": [
    "### <img src=\"https://github.com/OpenMined/design-assets/raw/master/logos/OM/mark-primary-light.png\" alt=\"he-black-box\" width=\"100\"/> Checkpoint 0 : Now STOP and run the Data Owner notebook until Checkpoint 1."
   ]
  },
  {
   "cell_type": "markdown",
   "id": "cf1dccec",
   "metadata": {},
   "source": [
    "# Part 2: Search for Available Data\n"
   ]
  },
  {
   "cell_type": "code",
   "execution_count": 3,
   "id": "51100569",
   "metadata": {},
   "outputs": [
    {
     "data": {
      "text/html": [
       "<div>\n",
       "<style scoped>\n",
       "    .dataframe tbody tr th:only-of-type {\n",
       "        vertical-align: middle;\n",
       "    }\n",
       "\n",
       "    .dataframe tbody tr th {\n",
       "        vertical-align: top;\n",
       "    }\n",
       "\n",
       "    .dataframe thead th {\n",
       "        text-align: right;\n",
       "    }\n",
       "</style>\n",
       "<table border=\"1\" class=\"dataframe\">\n",
       "  <thead>\n",
       "    <tr style=\"text-align: right;\">\n",
       "      <th></th>\n",
       "      <th>ID</th>\n",
       "      <th>Tags</th>\n",
       "      <th>Description</th>\n",
       "      <th>object_type</th>\n",
       "    </tr>\n",
       "  </thead>\n",
       "  <tbody>\n",
       "    <tr>\n",
       "      <th>0</th>\n",
       "      <td>&lt;UID: 0e3419be89044758b740b812bcd507df&gt;</td>\n",
       "      <td>[Crops-data]</td>\n",
       "      <td>This is a dataset for Crops classification tem...</td>\n",
       "      <td>&lt;class 'torch.Tensor'&gt;</td>\n",
       "    </tr>\n",
       "    <tr>\n",
       "      <th>1</th>\n",
       "      <td>&lt;UID: fed555467b904e7e85f501973e02ab65&gt;</td>\n",
       "      <td>[Crops-target]</td>\n",
       "      <td>Labels for Crops: rice, maize, chickpea</td>\n",
       "      <td>&lt;class 'torch.Tensor'&gt;</td>\n",
       "    </tr>\n",
       "  </tbody>\n",
       "</table>\n",
       "</div>"
      ],
      "text/plain": [
       "                                        ID            Tags  \\\n",
       "0  <UID: 0e3419be89044758b740b812bcd507df>    [Crops-data]   \n",
       "1  <UID: fed555467b904e7e85f501973e02ab65>  [Crops-target]   \n",
       "\n",
       "                                         Description             object_type  \n",
       "0  This is a dataset for Crops classification tem...  <class 'torch.Tensor'>  \n",
       "1            Labels for Crops: rice, maize, chickpea  <class 'torch.Tensor'>  "
      ]
     },
     "execution_count": 3,
     "metadata": {},
     "output_type": "execute_result"
    }
   ],
   "source": [
    "# The data scientist can check the list of pointable data in Data Owner's duet store\n",
    "duet.store.pandas"
   ]
  },
  {
   "cell_type": "code",
   "execution_count": 4,
   "id": "32b97482",
   "metadata": {},
   "outputs": [
    {
     "name": "stdout",
     "output_type": "stream",
     "text": [
      "<syft.proxy.torch.TensorPointer object at 0x7f3ec5fe1c50>\n",
      "<syft.proxy.torch.TensorPointer object at 0x7f3ec6208710>\n"
     ]
    }
   ],
   "source": [
    "# Data Scientist wants to get the crop dataset. (S)He needs a pointer to the data and\n",
    "# a pointer to the target for prediction.\n",
    "data_ptr = duet.store[0]\n",
    "target_ptr = duet.store[1]\n",
    "\n",
    "# data_ptr.requires_grad = True\n",
    "# target_ptr.requires_grad = True\n",
    "\n",
    "# data_ptr is a reference to the crop dataset remotely available on data owner's server\n",
    "# target_ptr is a reference to the crop dataset LABELS\n",
    "# remotely available on data owner's server\n",
    "print(data_ptr)\n",
    "print(target_ptr)"
   ]
  },
  {
   "cell_type": "markdown",
   "id": "acb3a7b6",
   "metadata": {},
   "source": [
    "# Part 3: Perform Logistic Regression on Crop dataset\n",
    "Now the data scientist can perform machine learning on the data that is in the Data Owner's duet server, without the owner having to share his/her data."
   ]
  },
  {
   "cell_type": "markdown",
   "id": "2f3540de",
   "metadata": {},
   "source": [
    "### Basic analysis"
   ]
  },
  {
   "cell_type": "markdown",
   "id": "2cfc5483",
   "metadata": {},
   "source": [
    "First the data scientist needs to know some basic information about the dataset.\n",
    "1. The length of the dataset\n",
    "2. The input dimension\n",
    "3. The output dimension\n",
    "\n",
    "These information have to explicitly shared by the Data Owner. Let's try to find them in the data description."
   ]
  },
  {
   "cell_type": "code",
   "execution_count": 5,
   "id": "ae8309ad",
   "metadata": {},
   "outputs": [
    {
     "name": "stdout",
     "output_type": "stream",
     "text": [
      "This is a dataset for Crops classification temperature, humidity, Ph level, Rainfall\n",
      "Labels for Crops: rice, maize, chickpea\n"
     ]
    }
   ],
   "source": [
    "print(duet.store.pandas[\"Description\"][0])\n",
    "\n",
    "print(duet.store.pandas[\"Description\"][1])"
   ]
  },
  {
   "cell_type": "markdown",
   "id": "de930327",
   "metadata": {},
   "source": [
    "### Train model"
   ]
  },
  {
   "cell_type": "code",
   "execution_count": 6,
   "id": "f46109e0",
   "metadata": {},
   "outputs": [],
   "source": [
    "import torch\n",
    "#import xgboost as xgb\n",
    "import time\n",
    "from sklearn.metrics import mean_squared_error"
   ]
  },
  {
   "cell_type": "code",
   "execution_count": 7,
   "id": "1b7b838c",
   "metadata": {},
   "outputs": [],
   "source": [
    "in_dim = 4\n",
    "out_dim = 3\n",
    "n_samples = 150"
   ]
  },
  {
   "cell_type": "code",
   "execution_count": 8,
   "id": "88f7f5f0",
   "metadata": {},
   "outputs": [],
   "source": [
    "class SyNet(sy.Module):\n",
    "    def __init__(self, torch_ref):\n",
    "        super(SyNet, self).__init__(torch_ref=torch_ref)\n",
    "        self.layer1 = self.torch_ref.nn.Linear(in_dim, 20)\n",
    "        self.layer2 = self.torch_ref.nn.Linear(20, 30)\n",
    "        self.out = self.torch_ref.nn.Linear(30, out_dim)\n",
    "        #self.flatten = self.torch_ref.nn.Flatten()\n",
    "    def forward(self, X111):\n",
    "        X111 = self.torch_ref.nn.functional.relu(self.layer1(X111))\n",
    "        X111 = self.torch_ref.nn.functional.relu(self.layer2(X111))\n",
    "        output = self.torch_ref.nn.functional.log_softmax(self.out(X111), dim=1)\n",
    "        \n",
    "        #self.torch_ref.nn.Flatten(x)\n",
    "        return output\n",
    "\n",
    "\n",
    "local_model = SyNet(torch)"
   ]
  },
  {
   "cell_type": "code",
   "execution_count": 9,
   "id": "8e841839",
   "metadata": {},
   "outputs": [],
   "source": [
    "remote_model = local_model.send(duet)"
   ]
  },
  {
   "cell_type": "markdown",
   "id": "732af27e",
   "metadata": {},
   "source": [
    "Let's create an alias for our partner’s torch called remote_torch so we can refer to the local torch as torch and any operation we want to do remotely as remote_torch. Remember, the return values from remote_torch are Pointers, not the real objects. They mostly act the same when using them with other Pointers but you can't mix them with local torch objects."
   ]
  },
  {
   "cell_type": "code",
   "execution_count": 10,
   "id": "da722a44",
   "metadata": {},
   "outputs": [],
   "source": [
    "remote_torch = duet.torch"
   ]
  },
  {
   "cell_type": "code",
   "execution_count": 11,
   "id": "56f21d18",
   "metadata": {},
   "outputs": [],
   "source": [
    "#remote_torch"
   ]
  },
  {
   "cell_type": "code",
   "execution_count": 12,
   "id": "fdb28c26",
   "metadata": {},
   "outputs": [],
   "source": [
    "\n",
    "params = remote_model.parameters()\n",
    "optim = remote_torch.optim.Adam(params=params, lr=0.01)"
   ]
  },
  {
   "cell_type": "code",
   "execution_count": 13,
   "id": "57174764",
   "metadata": {},
   "outputs": [
    {
     "name": "stdout",
     "output_type": "stream",
     "text": [
      "<syft.proxy.syft.lib.python.ListPointer object at 0x7f3ec62080d0>\n"
     ]
    }
   ],
   "source": [
    "print(remote_model.parameters())"
   ]
  },
  {
   "cell_type": "code",
   "execution_count": 14,
   "id": "46f31cf6",
   "metadata": {},
   "outputs": [
    {
     "name": "stdout",
     "output_type": "stream",
     "text": [
      "<syft.proxy.torch.optim.AdamPointer object at 0x7f3eb58d7550>\n"
     ]
    }
   ],
   "source": [
    "print(optim)"
   ]
  },
  {
   "cell_type": "code",
   "execution_count": 15,
   "id": "a9649c92",
   "metadata": {},
   "outputs": [
    {
     "name": "stdout",
     "output_type": "stream",
     "text": [
      "Computational time :- 0.00028443336486816406 seconds \n"
     ]
    }
   ],
   "source": [
    "start_time = time.time()\n",
    "def train(iterations, model, torch_ref, optim, data_ptr, target_ptr):\n",
    "\n",
    "    losses = []\n",
    "\n",
    "    for i in range(iterations):\n",
    "\n",
    "        optim.zero_grad()\n",
    "\n",
    "        output = model(data_ptr)\n",
    "\n",
    "        loss = torch_ref.nn.functional.nll_loss(output, target_ptr.long())\n",
    "        \n",
    "        \n",
    "        loss_item = loss.item()\n",
    "\n",
    "        loss_value = loss_item.get(\n",
    "            reason=\"To evaluate training progress\", request_block=True, timeout_secs=5\n",
    "        )\n",
    "\n",
    "        if i % 10 == 0:\n",
    "            print(\"Epoch\", i, \"loss\", loss_value)\n",
    "\n",
    "        losses.append(loss_value)\n",
    "\n",
    "        loss.backward()\n",
    "\n",
    "        optim.step()\n",
    "\n",
    "    return losses\n",
    "print(\"Computational time :- %s seconds \" % (time.time() - start_time))"
   ]
  },
  {
   "cell_type": "code",
   "execution_count": 16,
   "id": "768d7e32",
   "metadata": {
    "scrolled": true
   },
   "outputs": [
    {
     "name": "stdout",
     "output_type": "stream",
     "text": [
      "Epoch 0 loss 1.1230518817901611\n",
      "Epoch 10 loss 0.8002332448959351\n",
      "Epoch 20 loss 0.6343919634819031\n",
      "Epoch 30 loss 0.6042685508728027\n",
      "Epoch 40 loss 0.5841200351715088\n",
      "Epoch 50 loss 0.5639989376068115\n",
      "Epoch 60 loss 0.5423066020011902\n",
      "Epoch 70 loss 0.5190867781639099\n",
      "Epoch 80 loss 0.4907661974430084\n",
      "Epoch 90 loss 0.45858851075172424\n",
      "Epoch 100 loss 0.42385533452033997\n",
      "Epoch 110 loss 0.38672149181365967\n",
      "Epoch 120 loss 0.3478432595729828\n",
      "Epoch 130 loss 0.31034839153289795\n",
      "Epoch 140 loss 0.2751479744911194\n",
      "Epoch 150 loss 0.24535807967185974\n",
      "Epoch 160 loss 0.21897435188293457\n",
      "Epoch 170 loss 0.1976703554391861\n",
      "Epoch 180 loss 0.1780061423778534\n",
      "Epoch 190 loss 0.1613348424434662\n",
      "Epoch 200 loss 0.14589852094650269\n",
      "Epoch 210 loss 0.13277161121368408\n",
      "Epoch 220 loss 0.12088719755411148\n",
      "Epoch 230 loss 0.11048797518014908\n",
      "Epoch 240 loss 0.09993624687194824\n",
      "Epoch 250 loss 0.0903189405798912\n",
      "Epoch 260 loss 0.08113979548215866\n",
      "Epoch 270 loss 0.07306986302137375\n",
      "Epoch 280 loss 0.0663987547159195\n",
      "Epoch 290 loss 0.06016175076365471\n"
     ]
    }
   ],
   "source": [
    "iteration = 300\n",
    "losses = train(iteration, remote_model, remote_torch, optim, data_ptr, target_ptr)"
   ]
  },
  {
   "cell_type": "code",
   "execution_count": 17,
   "id": "99918db7",
   "metadata": {},
   "outputs": [],
   "source": [
    "import matplotlib.pyplot as plt"
   ]
  },
  {
   "cell_type": "code",
   "execution_count": 18,
   "id": "72bd47cc",
   "metadata": {},
   "outputs": [
    {
     "data": {
      "text/plain": [
       "Text(0.5, 0, 'epoch')"
      ]
     },
     "execution_count": 18,
     "metadata": {},
     "output_type": "execute_result"
    },
    {
     "data": {
      "image/png": "[encoded data removed]",
      "text/plain": [
       "<Figure size 432x288 with 1 Axes>"
      ]
     },
     "metadata": {
      "needs_background": "light"
     },
     "output_type": "display_data"
    }
   ],
   "source": [
    "plt.title('Crop, Loss vs epoch')\n",
    "plt.plot(range(iteration), losses)\n",
    "plt.ylabel(\"Loss\")\n",
    "plt.xlabel(\"epoch\")\n"
   ]
  },
  {
   "cell_type": "markdown",
   "id": "8a300dc7",
   "metadata": {},
   "source": [
    "### Download model"
   ]
  },
  {
   "cell_type": "code",
   "execution_count": 19,
   "id": "a83f6570",
   "metadata": {},
   "outputs": [],
   "source": [
    "def get_local_model(model):\n",
    "    if not model.is_local:\n",
    "        local_model = model.get(\n",
    "            request_block=True,\n",
    "            reason=\"To run test and inference locally\",\n",
    "            timeout_secs=5,\n",
    "        )\n",
    "    else:\n",
    "        local_model = model\n",
    "\n",
    "    return local_model\n",
    "\n",
    "\n",
    "local_model = get_local_model(remote_model)"
   ]
  },
  {
   "cell_type": "code",
   "execution_count": 20,
   "id": "78d2f865",
   "metadata": {},
   "outputs": [
    {
     "data": {
      "text/plain": [
       "<__main__.SyNet at 0x7f3eb1479c90>"
      ]
     },
     "execution_count": 20,
     "metadata": {},
     "output_type": "execute_result"
    }
   ],
   "source": [
    "local_model"
   ]
  },
  {
   "cell_type": "code",
   "execution_count": null,
   "id": "4238d7d8",
   "metadata": {},
   "outputs": [],
   "source": []
  },
  {
   "cell_type": "markdown",
   "id": "dd557256",
   "metadata": {},
   "source": [
    "### Test on local data"
   ]
  },
  {
   "cell_type": "code",
   "execution_count": 21,
   "id": "b20efcf3",
   "metadata": {},
   "outputs": [],
   "source": [
    "import torch\n",
    "import pandas as pd\n",
    "import numpy as np\n",
    "from sklearn.metrics import accuracy_score"
   ]
  },
  {
   "cell_type": "code",
   "execution_count": 22,
   "id": "af24b889",
   "metadata": {},
   "outputs": [],
   "source": [
    "crop_test = pd.read_csv(f\"Crop_test_data_Artharva1.csv\")"
   ]
  },
  {
   "cell_type": "code",
   "execution_count": 23,
   "id": "8b865ed4",
   "metadata": {},
   "outputs": [],
   "source": [
    "from sklearn.preprocessing import StandardScaler\n",
    "df2 = StandardScaler().fit_transform(crop_test.iloc[:, 0:5])"
   ]
  },
  {
   "cell_type": "code",
   "execution_count": 24,
   "id": "6f59a4ca",
   "metadata": {},
   "outputs": [],
   "source": [
    "df = pd.DataFrame(df2)"
   ]
  },
  {
   "cell_type": "code",
   "execution_count": 25,
   "id": "40bc17c3",
   "metadata": {},
   "outputs": [],
   "source": [
    "XX_test = df.loc[:, crop_test.columns != \"label\"]\n",
    "yy_test = crop_test[\"label\"]"
   ]
  },
  {
   "cell_type": "code",
   "execution_count": 26,
   "id": "aa388713",
   "metadata": {},
   "outputs": [
    {
     "data": {
      "text/html": [
       "<div>\n",
       "<style scoped>\n",
       "    .dataframe tbody tr th:only-of-type {\n",
       "        vertical-align: middle;\n",
       "    }\n",
       "\n",
       "    .dataframe tbody tr th {\n",
       "        vertical-align: top;\n",
       "    }\n",
       "\n",
       "    .dataframe thead th {\n",
       "        text-align: right;\n",
       "    }\n",
       "</style>\n",
       "<table border=\"1\" class=\"dataframe\">\n",
       "  <thead>\n",
       "    <tr style=\"text-align: right;\">\n",
       "      <th></th>\n",
       "      <th>0</th>\n",
       "      <th>1</th>\n",
       "      <th>2</th>\n",
       "      <th>3</th>\n",
       "    </tr>\n",
       "  </thead>\n",
       "  <tbody>\n",
       "    <tr>\n",
       "      <th>0</th>\n",
       "      <td>-0.171131</td>\n",
       "      <td>0.988401</td>\n",
       "      <td>-0.165213</td>\n",
       "      <td>0.877023</td>\n",
       "    </tr>\n",
       "    <tr>\n",
       "      <th>1</th>\n",
       "      <td>0.152926</td>\n",
       "      <td>0.927490</td>\n",
       "      <td>0.572103</td>\n",
       "      <td>1.187286</td>\n",
       "    </tr>\n",
       "    <tr>\n",
       "      <th>2</th>\n",
       "      <td>0.458778</td>\n",
       "      <td>0.324544</td>\n",
       "      <td>-1.189264</td>\n",
       "      <td>-0.629555</td>\n",
       "    </tr>\n",
       "    <tr>\n",
       "      <th>3</th>\n",
       "      <td>-1.576593</td>\n",
       "      <td>-1.368635</td>\n",
       "      <td>1.186533</td>\n",
       "      <td>-0.619221</td>\n",
       "    </tr>\n",
       "    <tr>\n",
       "      <th>4</th>\n",
       "      <td>0.600780</td>\n",
       "      <td>1.000003</td>\n",
       "      <td>1.664423</td>\n",
       "      <td>1.675177</td>\n",
       "    </tr>\n",
       "    <tr>\n",
       "      <th>5</th>\n",
       "      <td>1.871522</td>\n",
       "      <td>0.921689</td>\n",
       "      <td>0.490179</td>\n",
       "      <td>1.399185</td>\n",
       "    </tr>\n",
       "    <tr>\n",
       "      <th>6</th>\n",
       "      <td>1.729519</td>\n",
       "      <td>0.610245</td>\n",
       "      <td>0.421909</td>\n",
       "      <td>-0.439761</td>\n",
       "    </tr>\n",
       "    <tr>\n",
       "      <th>7</th>\n",
       "      <td>0.804682</td>\n",
       "      <td>0.610970</td>\n",
       "      <td>0.053251</td>\n",
       "      <td>-0.904762</td>\n",
       "    </tr>\n",
       "    <tr>\n",
       "      <th>8</th>\n",
       "      <td>-0.848375</td>\n",
       "      <td>-1.363559</td>\n",
       "      <td>0.408255</td>\n",
       "      <td>-0.731973</td>\n",
       "    </tr>\n",
       "    <tr>\n",
       "      <th>9</th>\n",
       "      <td>-1.259818</td>\n",
       "      <td>-1.425920</td>\n",
       "      <td>-0.847914</td>\n",
       "      <td>-0.880825</td>\n",
       "    </tr>\n",
       "    <tr>\n",
       "      <th>10</th>\n",
       "      <td>-0.444213</td>\n",
       "      <td>0.973898</td>\n",
       "      <td>1.377689</td>\n",
       "      <td>1.658958</td>\n",
       "    </tr>\n",
       "    <tr>\n",
       "      <th>11</th>\n",
       "      <td>0.622627</td>\n",
       "      <td>1.038072</td>\n",
       "      <td>0.613065</td>\n",
       "      <td>1.506312</td>\n",
       "    </tr>\n",
       "    <tr>\n",
       "      <th>12</th>\n",
       "      <td>0.495189</td>\n",
       "      <td>1.011605</td>\n",
       "      <td>-1.257534</td>\n",
       "      <td>1.771448</td>\n",
       "    </tr>\n",
       "    <tr>\n",
       "      <th>13</th>\n",
       "      <td>-0.502471</td>\n",
       "      <td>0.106642</td>\n",
       "      <td>-0.028673</td>\n",
       "      <td>-0.984159</td>\n",
       "    </tr>\n",
       "    <tr>\n",
       "      <th>14</th>\n",
       "      <td>-1.044994</td>\n",
       "      <td>0.288650</td>\n",
       "      <td>-0.888876</td>\n",
       "      <td>-0.921505</td>\n",
       "    </tr>\n",
       "    <tr>\n",
       "      <th>15</th>\n",
       "      <td>0.156567</td>\n",
       "      <td>0.111356</td>\n",
       "      <td>-0.629450</td>\n",
       "      <td>-0.442115</td>\n",
       "    </tr>\n",
       "    <tr>\n",
       "      <th>16</th>\n",
       "      <td>-0.389597</td>\n",
       "      <td>1.020669</td>\n",
       "      <td>-1.230226</td>\n",
       "      <td>1.387544</td>\n",
       "    </tr>\n",
       "    <tr>\n",
       "      <th>17</th>\n",
       "      <td>1.154227</td>\n",
       "      <td>1.044236</td>\n",
       "      <td>0.094213</td>\n",
       "      <td>1.236860</td>\n",
       "    </tr>\n",
       "    <tr>\n",
       "      <th>18</th>\n",
       "      <td>0.680884</td>\n",
       "      <td>1.025745</td>\n",
       "      <td>-0.383678</td>\n",
       "      <td>1.115999</td>\n",
       "    </tr>\n",
       "    <tr>\n",
       "      <th>19</th>\n",
       "      <td>-0.902991</td>\n",
       "      <td>-1.416856</td>\n",
       "      <td>-0.315408</td>\n",
       "      <td>-0.619744</td>\n",
       "    </tr>\n",
       "    <tr>\n",
       "      <th>20</th>\n",
       "      <td>-1.085046</td>\n",
       "      <td>-1.275455</td>\n",
       "      <td>0.722297</td>\n",
       "      <td>-0.740736</td>\n",
       "    </tr>\n",
       "    <tr>\n",
       "      <th>21</th>\n",
       "      <td>-0.327698</td>\n",
       "      <td>-1.426282</td>\n",
       "      <td>-0.861568</td>\n",
       "      <td>-0.565200</td>\n",
       "    </tr>\n",
       "    <tr>\n",
       "      <th>22</th>\n",
       "      <td>1.554747</td>\n",
       "      <td>0.426425</td>\n",
       "      <td>-0.779644</td>\n",
       "      <td>-0.397904</td>\n",
       "    </tr>\n",
       "    <tr>\n",
       "      <th>23</th>\n",
       "      <td>1.398180</td>\n",
       "      <td>0.433314</td>\n",
       "      <td>-0.970800</td>\n",
       "      <td>-0.756302</td>\n",
       "    </tr>\n",
       "    <tr>\n",
       "      <th>24</th>\n",
       "      <td>-0.338622</td>\n",
       "      <td>0.283212</td>\n",
       "      <td>-1.039070</td>\n",
       "      <td>-0.923598</td>\n",
       "    </tr>\n",
       "    <tr>\n",
       "      <th>25</th>\n",
       "      <td>1.299870</td>\n",
       "      <td>0.436939</td>\n",
       "      <td>-1.189264</td>\n",
       "      <td>-0.348853</td>\n",
       "    </tr>\n",
       "    <tr>\n",
       "      <th>26</th>\n",
       "      <td>-0.254877</td>\n",
       "      <td>-1.382412</td>\n",
       "      <td>-0.533872</td>\n",
       "      <td>-0.800905</td>\n",
       "    </tr>\n",
       "    <tr>\n",
       "      <th>27</th>\n",
       "      <td>-1.463719</td>\n",
       "      <td>-1.304823</td>\n",
       "      <td>1.268457</td>\n",
       "      <td>-0.696787</td>\n",
       "    </tr>\n",
       "    <tr>\n",
       "      <th>28</th>\n",
       "      <td>-1.154227</td>\n",
       "      <td>-1.299385</td>\n",
       "      <td>0.531141</td>\n",
       "      <td>-0.706859</td>\n",
       "    </tr>\n",
       "    <tr>\n",
       "      <th>29</th>\n",
       "      <td>-1.216125</td>\n",
       "      <td>-1.320776</td>\n",
       "      <td>2.906938</td>\n",
       "      <td>-0.705027</td>\n",
       "    </tr>\n",
       "  </tbody>\n",
       "</table>\n",
       "</div>"
      ],
      "text/plain": [
       "           0         1         2         3\n",
       "0  -0.171131  0.988401 -0.165213  0.877023\n",
       "1   0.152926  0.927490  0.572103  1.187286\n",
       "2   0.458778  0.324544 -1.189264 -0.629555\n",
       "3  -1.576593 -1.368635  1.186533 -0.619221\n",
       "4   0.600780  1.000003  1.664423  1.675177\n",
       "5   1.871522  0.921689  0.490179  1.399185\n",
       "6   1.729519  0.610245  0.421909 -0.439761\n",
       "7   0.804682  0.610970  0.053251 -0.904762\n",
       "8  -0.848375 -1.363559  0.408255 -0.731973\n",
       "9  -1.259818 -1.425920 -0.847914 -0.880825\n",
       "10 -0.444213  0.973898  1.377689  1.658958\n",
       "11  0.622627  1.038072  0.613065  1.506312\n",
       "12  0.495189  1.011605 -1.257534  1.771448\n",
       "13 -0.502471  0.106642 -0.028673 -0.984159\n",
       "14 -1.044994  0.288650 -0.888876 -0.921505\n",
       "15  0.156567  0.111356 -0.629450 -0.442115\n",
       "16 -0.389597  1.020669 -1.230226  1.387544\n",
       "17  1.154227  1.044236  0.094213  1.236860\n",
       "18  0.680884  1.025745 -0.383678  1.115999\n",
       "19 -0.902991 -1.416856 -0.315408 -0.619744\n",
       "20 -1.085046 -1.275455  0.722297 -0.740736\n",
       "21 -0.327698 -1.426282 -0.861568 -0.565200\n",
       "22  1.554747  0.426425 -0.779644 -0.397904\n",
       "23  1.398180  0.433314 -0.970800 -0.756302\n",
       "24 -0.338622  0.283212 -1.039070 -0.923598\n",
       "25  1.299870  0.436939 -1.189264 -0.348853\n",
       "26 -0.254877 -1.382412 -0.533872 -0.800905\n",
       "27 -1.463719 -1.304823  1.268457 -0.696787\n",
       "28 -1.154227 -1.299385  0.531141 -0.706859\n",
       "29 -1.216125 -1.320776  2.906938 -0.705027"
      ]
     },
     "execution_count": 26,
     "metadata": {},
     "output_type": "execute_result"
    }
   ],
   "source": [
    "XX_test"
   ]
  },
  {
   "cell_type": "code",
   "execution_count": 27,
   "id": "438af803",
   "metadata": {},
   "outputs": [
    {
     "data": {
      "text/plain": [
       "0     0\n",
       "1     0\n",
       "2     1\n",
       "3     2\n",
       "4     0\n",
       "5     0\n",
       "6     1\n",
       "7     1\n",
       "8     2\n",
       "9     2\n",
       "10    0\n",
       "11    0\n",
       "12    0\n",
       "13    1\n",
       "14    1\n",
       "15    1\n",
       "16    0\n",
       "17    0\n",
       "18    0\n",
       "19    2\n",
       "20    2\n",
       "21    2\n",
       "22    1\n",
       "23    1\n",
       "24    1\n",
       "25    1\n",
       "26    2\n",
       "27    2\n",
       "28    2\n",
       "29    2\n",
       "Name: label, dtype: int64"
      ]
     },
     "execution_count": 27,
     "metadata": {},
     "output_type": "execute_result"
    }
   ],
   "source": [
    "yy_test"
   ]
  },
  {
   "cell_type": "code",
   "execution_count": 28,
   "id": "4c7bc8fd",
   "metadata": {},
   "outputs": [],
   "source": [
    "XX1_test = torch.FloatTensor(np.array(XX_test))\n",
    "yy1_test = torch.LongTensor(np.array(yy_test))"
   ]
  },
  {
   "cell_type": "code",
   "execution_count": 29,
   "id": "12aabbd9",
   "metadata": {
    "scrolled": true
   },
   "outputs": [
    {
     "name": "stdout",
     "output_type": "stream",
     "text": [
      "Prediction: 2 Ground Truth: 0\n",
      "Prediction: 0 Ground Truth: 0\n",
      "Prediction: 1 Ground Truth: 1\n",
      "Prediction: 1 Ground Truth: 2\n",
      "Prediction: 0 Ground Truth: 0\n",
      "Prediction: 0 Ground Truth: 0\n",
      "Prediction: 0 Ground Truth: 1\n",
      "Prediction: 1 Ground Truth: 1\n",
      "Prediction: 2 Ground Truth: 2\n",
      "Prediction: 2 Ground Truth: 2\n",
      "Prediction: 0 Ground Truth: 0\n",
      "Prediction: 0 Ground Truth: 0\n",
      "Prediction: 0 Ground Truth: 0\n",
      "Prediction: 1 Ground Truth: 1\n",
      "Prediction: 2 Ground Truth: 1\n",
      "Prediction: 1 Ground Truth: 1\n",
      "Prediction: 0 Ground Truth: 0\n",
      "Prediction: 0 Ground Truth: 0\n",
      "Prediction: 0 Ground Truth: 0\n",
      "Prediction: 2 Ground Truth: 2\n",
      "Prediction: 2 Ground Truth: 2\n",
      "Prediction: 2 Ground Truth: 2\n",
      "Prediction: 0 Ground Truth: 1\n",
      "Prediction: 2 Ground Truth: 1\n",
      "Prediction: 0 Ground Truth: 1\n",
      "Prediction: 0 Ground Truth: 1\n",
      "Prediction: 2 Ground Truth: 2\n",
      "Prediction: 2 Ground Truth: 2\n",
      "Prediction: 2 Ground Truth: 2\n",
      "Prediction: 2 Ground Truth: 2\n"
     ]
    }
   ],
   "source": [
    "preds = []\n",
    "with torch.no_grad():\n",
    "    #local_model.eval()\n",
    "    for i in range(len(XX1_test)):\n",
    "        sample = XX1_test[i]\n",
    "       \n",
    "        y_hat = local_model(sample.unsqueeze(0))\n",
    "        pred = y_hat.argmax().item()\n",
    "        print(f\"Prediction: {pred} Ground Truth: {yy1_test[i]}\")\n",
    "        preds.append(pred)"
   ]
  },
  {
   "cell_type": "code",
   "execution_count": 30,
   "id": "ecc43c57",
   "metadata": {},
   "outputs": [],
   "source": [
    "#preds = []\n",
    "#with torch.no_grad():\n",
    "  #  #local_model.eval()\n",
    "   # for i in range(len(XX1_test)):\n",
    "    #    sample = XX1_test[i]\n",
    "       \n",
    "     #   y_hat = local_model(sample.unsqueeze(0))\n",
    "      #  pred = y_hat.argmax().item()\n",
    "       # print(f\"Prediction: {pred} Ground Truth: {yy1_test[i]}\")\n",
    "        #preds.append(pred)\n",
    "#preds = [sample.squeeze().tolist() for sample in preds]"
   ]
  },
  {
   "cell_type": "code",
   "execution_count": 31,
   "id": "dbfe1fd8",
   "metadata": {},
   "outputs": [
    {
     "data": {
      "text/plain": [
       "tensor([-1.2161, -1.3208,  2.9069, -0.7050])"
      ]
     },
     "execution_count": 31,
     "metadata": {},
     "output_type": "execute_result"
    }
   ],
   "source": [
    "sample"
   ]
  },
  {
   "cell_type": "code",
   "execution_count": 32,
   "id": "b8224226",
   "metadata": {},
   "outputs": [
    {
     "data": {
      "text/plain": [
       "tensor([[-1.6114e+01, -9.6993e+01, -1.1921e-07]])"
      ]
     },
     "execution_count": 32,
     "metadata": {},
     "output_type": "execute_result"
    }
   ],
   "source": [
    "y_hat"
   ]
  },
  {
   "cell_type": "code",
   "execution_count": 33,
   "id": "f6a1bbd9",
   "metadata": {},
   "outputs": [
    {
     "name": "stdout",
     "output_type": "stream",
     "text": [
      "Overall test accuracy 73.33333333333333\n"
     ]
    }
   ],
   "source": [
    "acc = accuracy_score(yy1_test, preds)\n",
    "print(\"Overall test accuracy\", acc * 100)"
   ]
  },
  {
   "cell_type": "code",
   "execution_count": 34,
   "id": "2ac8ea73",
   "metadata": {},
   "outputs": [
    {
     "data": {
      "image/png": "[encoded data removed]",
      "text/plain": [
       "<Figure size 432x288 with 1 Axes>"
      ]
     },
     "metadata": {
      "needs_background": "light"
     },
     "output_type": "display_data"
    }
   ],
   "source": [
    "plt.title('Crop Type Predictions versus Ground Truth')\n",
    "\n",
    "plt.plot(preds, label='pred')\n",
    "plt.plot(yy1_test, label='actual')\n",
    "plt.legend()\n",
    "plt.xlabel('crop type')\n",
    "plt.ylabel('predictions')\n",
    "plt.show()"
   ]
  },
  {
   "cell_type": "code",
   "execution_count": 35,
   "id": "ceb37f52",
   "metadata": {},
   "outputs": [],
   "source": [
    "#plt.title('Crop Type Predictions versus Ground Truth')\n",
    "\n",
    "#plt.scatter(preds, range(len(preds)), label='pred')\n",
    "#plt.scatter(yy1_test, range(len(yy1_test)), label='actual')\n",
    "#plt.legend()\n",
    "#plt.xlabel('crop type')\n",
    "#plt.ylabel('predictions')\n",
    "#plt.show()"
   ]
  },
  {
   "cell_type": "code",
   "execution_count": 36,
   "id": "d802a1a7",
   "metadata": {},
   "outputs": [
    {
     "name": "stdout",
     "output_type": "stream",
     "text": [
      "<__main__.SyNet object at 0x7f3ec61b5c90>\n",
      "\n",
      "\n"
     ]
    }
   ],
   "source": [
    "#print(\"Base Model parameters:\")\n",
    "print(remote_model)\n",
    "print()\n",
    "\n",
    "#print(\"Remote model1 parameters:\")\n",
    "#print(remote_torch)\n",
    "print()\n",
    "\n",
    "#print(\"Remote model2 parameters:\")\n",
    "#print(param2)"
   ]
  },
  {
   "cell_type": "code",
   "execution_count": 37,
   "id": "abbde2bf",
   "metadata": {},
   "outputs": [],
   "source": [
    "#y_pred_list = []\n",
    "#model.eval()\n",
    "#with torch.no_grad():\n",
    "#    for X_batch in test_loader:\n",
    "#        X_batch = X_batch.to(device)\n",
    "#        y_test_pred = model(X_batch)\n",
    "#        y_test_pred = torch.sigmoid(y_test_pred)\n",
    "#        y_pred_tag = torch.round(y_test_pred)\n",
    "#        y_pred_list.append(y_pred_tag.cpu().numpy())\n",
    "\n",
    "#y_pred_list = [a.squeeze().tolist() for a in y_pred_list]\n"
   ]
  },
  {
   "cell_type": "code",
   "execution_count": 38,
   "id": "ba834d20",
   "metadata": {},
   "outputs": [
    {
     "name": "stdout",
     "output_type": "stream",
     "text": [
      "              precision    recall  f1-score   support\n",
      "\n",
      "           0       0.69      0.90      0.78        10\n",
      "           1       0.80      0.40      0.53        10\n",
      "           2       0.75      0.90      0.82        10\n",
      "\n",
      "    accuracy                           0.73        30\n",
      "   macro avg       0.75      0.73      0.71        30\n",
      "weighted avg       0.75      0.73      0.71        30\n",
      "\n"
     ]
    }
   ],
   "source": [
    "from sklearn.metrics import classification_report\n",
    "\n",
    "print(classification_report(yy1_test, preds))"
   ]
  },
  {
   "cell_type": "code",
   "execution_count": null,
   "id": "2bd04485",
   "metadata": {},
   "outputs": [],
   "source": [
    "#to check the classical machine training results"
   ]
  },
  {
   "cell_type": "code",
   "execution_count": null,
   "id": "c1f65175",
   "metadata": {},
   "outputs": [],
   "source": [
    "#Comparison to classical linear regression on centralised data\n",
    "import torch\n",
    "import numpy as np\n",
    "\n",
    "in_dim = 1\n",
    "out_dim = 1\n",
    "\n",
    "\n",
    "class ClassicalLR(torch.nn.Module):\n",
    "    def __init__(self, torch):\n",
    "        super(ClassicalLR, self).__init__()\n",
    "        self.linear = torch.nn.Linear(in_dim, out_dim)\n",
    "\n",
    "    def forward(self, x):\n",
    "        x = self.linear(x)\n",
    "        return x\n",
    "\n",
    "\n",
    "classical_model = ClassicalLR(torch)"
   ]
  },
  {
   "cell_type": "code",
   "execution_count": null,
   "id": "6211b02a",
   "metadata": {},
   "outputs": [],
   "source": [
    "data = torch.FloatTensor(\n",
    "    np.array([5, 15, 25, 35, 45, 55, 60, 65, 75, 85, 95]).reshape(-1, 1)\n",
    ")\n",
    "target = torch.FloatTensor(\n",
    "    np.array([5, 10, 15, 22, 30, 38, 35, 40, 45, 55, 60]).reshape(-1, 1)\n",
    ")"
   ]
  },
  {
   "cell_type": "code",
   "execution_count": null,
   "id": "6a0696d1",
   "metadata": {},
   "outputs": [],
   "source": [
    "def classic_train(iterations, model, torch, optim, data, target, criterion):\n",
    "\n",
    "    losses = []\n",
    "\n",
    "    for i in range(iterations):\n",
    "\n",
    "        optim.zero_grad()\n",
    "\n",
    "        output = model(data)\n",
    "\n",
    "        loss = criterion(output, target)\n",
    "\n",
    "        loss_item = loss.item()\n",
    "\n",
    "        if i % 10 == 0:\n",
    "            print(\"Epoch\", i, \"loss\", loss_item)\n",
    "\n",
    "        losses.append(loss_item)\n",
    "\n",
    "        loss.backward()\n",
    "\n",
    "        optim.step()\n",
    "\n",
    "    return losses"
   ]
  },
  {
   "cell_type": "code",
   "execution_count": null,
   "id": "4379cb0a",
   "metadata": {},
   "outputs": [],
   "source": [
    "params = classical_model.parameters()\n",
    "optim = torch.optim.Adam(params=params, lr=0.1)\n",
    "criterion = torch.nn.MSELoss()"
   ]
  },
  {
   "cell_type": "code",
   "execution_count": null,
   "id": "bce1facb",
   "metadata": {},
   "outputs": [],
   "source": [
    "iteration = 100\n",
    "losses = classic_train(\n",
    "    iteration, classical_model, torch, optim, data, target, criterion\n",
    ")"
   ]
  },
  {
   "cell_type": "code",
   "execution_count": null,
   "id": "ccb24960",
   "metadata": {},
   "outputs": [],
   "source": [
    "test_data = th.FloatTensor(np.array([17, 25, 32, 50, 80]).reshape(-1, 1))\n",
    "test_target = th.FloatTensor(np.array([12, 15, 20, 30, 50]).reshape(-1, 1))"
   ]
  },
  {
   "cell_type": "code",
   "execution_count": null,
   "id": "19a4fafc",
   "metadata": {},
   "outputs": [],
   "source": [
    "preds = []\n",
    "with torch.no_grad():\n",
    "    for i in range(len(test_data)):\n",
    "        sample = test_data[i]\n",
    "        y_hat = classical_model(sample)\n",
    "\n",
    "        print(f\"Prediction: {y_hat.item()} Ground Truth: {test_target[i].item()}\")\n",
    "        preds.append(y_hat)"
   ]
  }
 ],
 "metadata": {
  "kernelspec": {
   "display_name": "Python 3 (ipykernel)",
   "language": "python",
   "name": "python3"
  },
  "language_info": {
   "codemirror_mode": {
    "name": "ipython",
    "version": 3
   },
   "file_extension": ".py",
   "mimetype": "text/x-python",
   "name": "python",
   "nbconvert_exporter": "python",
   "pygments_lexer": "ipython3",
   "version": "3.7.13"
  }
 },
 "nbformat": 4,
 "nbformat_minor": 5
}
